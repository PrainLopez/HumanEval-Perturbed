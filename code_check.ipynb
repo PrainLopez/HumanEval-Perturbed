{
 "cells": [
  {
   "cell_type": "code",
   "execution_count": null,
   "id": "initial_id",
   "metadata": {
    "collapsed": true
   },
   "outputs": [],
   "source": [
    "import pickle\n",
    "\n",
    "names = [\"gemini-1.5-flash-8b\",\"gemini-1.5-flash\",\"gemini-2.0-flash\",\"gemini-2.0-flash-lite\",\"gemini-2.5-flash-preview-04-17\", \"gemini-2.5-pro-preview-03-25\"]\n",
    "\n",
    "for model_name in names:\n",
    "  # load outputs from Llama-3.2-1B-Instruct.pkl\n",
    "  with open(f\"/content/lab/{model_name}.pkl\", \"rb\") as f:\n",
    "      outputs = pickle.load(f)\n",
    "\n",
    "  pass_count = 0\n",
    "\n",
    "  for sample in outputs:\n",
    "    code = sample[\"response\"]\n",
    "    # strip other text from code\n",
    "    code = code.split(\"```python\")[1].split(\"```\")[0]\n",
    "\n",
    "    test_code = sample[\"test\"]\n",
    "\n",
    "    executes = code + \"\\n\" + test_code + \"\\n\" + \"check({})\".format(sample[\"entry_point\"])\n",
    "    try:\n",
    "      exec(executes)\n",
    "      pass_count += 1\n",
    "      print(\"{} PASS\\t{} / {}\".format(sample[\"task_id\"], pass_count, len(outputs)), end=\"\\r\")\n",
    "    except Exception as e:\n",
    "      print(\"{} FAIL\\t{} / {}\".format(sample[\"task_id\"], pass_count, len(outputs)))\n",
    "      print(e)\n",
    "\n",
    "  print(\"{} with HumanEval: {} / {}\\t {:.2%}\".format(model_name, pass_count, len(outputs), pass_count/len(outputs)))\n"
   ]
  }
 ],
 "metadata": {
  "kernelspec": {
   "display_name": "Python 3",
   "language": "python",
   "name": "python3"
  },
  "language_info": {
   "codemirror_mode": {
    "name": "ipython",
    "version": 2
   },
   "file_extension": ".py",
   "mimetype": "text/x-python",
   "name": "python",
   "nbconvert_exporter": "python",
   "pygments_lexer": "ipython2",
   "version": "2.7.6"
  }
 },
 "nbformat": 4,
 "nbformat_minor": 5
}
