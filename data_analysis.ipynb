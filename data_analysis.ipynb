{
 "cells": [
  {
   "cell_type": "code",
   "id": "initial_id",
   "metadata": {
    "collapsed": true,
    "ExecuteTime": {
     "end_time": "2025-07-10T12:21:08.673878Z",
     "start_time": "2025-07-10T12:21:08.666767Z"
    }
   },
   "source": [
    "import pandas as pd\n",
    "from scipy import stats\n"
   ],
   "outputs": [],
   "execution_count": 64
  },
  {
   "metadata": {
    "ExecuteTime": {
     "end_time": "2025-07-10T00:54:03.906897Z",
     "start_time": "2025-07-10T00:54:03.901941Z"
    }
   },
   "cell_type": "code",
   "source": [
    "MODELS = [\n",
    "    \"openai/gpt-4.1\",\n",
    "    \"openai/gpt-4.1-mini\",\n",
    "    \"openai/gpt-4.1-nano\",\n",
    "    \"openai/gpt-4o-mini\",\n",
    "    \"openai/gpt-4o-2024-11-20\",\n",
    "    \"deepseek/deepseek-chat-v3-0324\",\n",
    "    \"deepseek/deepseek-r1-0528\",\n",
    "    \"google/gemini-2.5-flash\",\n",
    "    \"google/gemini-2.5-pro\",\n",
    "    \"meta-llama/llama-3.3-70b-instruct\",\n",
    "    \"meta-llama/llama-3.1-8b-instruct\",\n",
    "    \"meta-llama/llama-3.2-3b-instruct\",\n",
    "    \"meta-llama/llama-3.2-1b-instruct\",\n",
    "    \"meta-llama/llama-4-maverick\",\n",
    "    \"meta-llama/llama-4-scout\",\n",
    "    \"qwen/qwen3-30b-a3b\",\n",
    "    \"qwen/qwen3-32b\",\n",
    "    \"qwen/qwen3-8b\",\n",
    "    \"qwen/qwen3-1.7b\",\n",
    "    \"baidu/ernie-4.5-turbo-128k\",\n",
    "    \"baidu/ernie-4.5-0.3b\",\n",
    "    \"baidu/ernie-4.5-21b-a3b\"\n",
    "]\n",
    "SET_NAME = [\n",
    "    \"test\",\n",
    "    \"renamed\"\n",
    "]"
   ],
   "id": "bd0996824be3d6ac",
   "outputs": [],
   "execution_count": 44
  },
  {
   "metadata": {
    "ExecuteTime": {
     "end_time": "2025-07-10T12:21:11.359270Z",
     "start_time": "2025-07-10T12:21:11.352128Z"
    }
   },
   "cell_type": "code",
   "outputs": [],
   "execution_count": 65,
   "source": [
    "MODELS = [\n",
    "    \"openai/gpt-4.1\",\n",
    "    \"openai/gpt-4.1-mini\",\n",
    "    \"openai/gpt-4.1-nano\",\n",
    "    \"openai/gpt-4o-mini\",\n",
    "    \"openai/gpt-4o-2024-11-20\",\n",
    "    \"deepseek/deepseek-chat-v3-0324\",\n",
    "    \"deepseek/deepseek-r1-0528\",\n",
    "    \"google/gemini-2.5-flash\",\n",
    "    # \"google/gemini-2.5-pro\",\n",
    "    \"meta-llama/llama-3.3-70b-instruct\",\n",
    "    \"meta-llama/llama-3.1-8b-instruct\",\n",
    "    \"meta-llama/llama-3.2-3b-instruct\",\n",
    "    \"meta-llama/llama-3.2-1b-instruct\",\n",
    "    \"meta-llama/llama-4-maverick\",\n",
    "    \"meta-llama/llama-4-scout\",\n",
    "    \"qwen/qwen3-30b-a3b\",\n",
    "    \"qwen/qwen3-32b\",\n",
    "    \"qwen/qwen3-8b\",\n",
    "    # \"qwen/qwen3-1.7b\",\n",
    "    \"baidu/ernie-4.5-turbo-128k\",\n",
    "    \"baidu/ernie-4.5-0.3b\",\n",
    "    # \"baidu/ernie-4.5-21b-a3b\"\n",
    "]\n",
    "SET_NAME = [\n",
    "    \"test\",\n",
    "    \"renamed\"\n",
    "]"
   ],
   "id": "fdf104e014c19398"
  },
  {
   "metadata": {
    "ExecuteTime": {
     "end_time": "2025-07-10T00:59:56.223089Z",
     "start_time": "2025-07-10T00:59:56.184203Z"
    }
   },
   "cell_type": "code",
   "source": [
    "lab_data = pd.read_csv('lab/code_check(1).csv')\n",
    "# count \"Pass\" every column of lab_data\n",
    "pass_count = lab_data.apply(lambda x: (x == 'Pass').sum())\n",
    "\n",
    "gather_list = []\n",
    "for i in range(len(MODELS)):\n",
    "    row = {}\n",
    "    row[\"model_name\"] = MODELS[i]\n",
    "    for j in range(len(SET_NAME)):\n",
    "        row[SET_NAME[j]] = pass_count.iloc[i*2+j]\n",
    "\n",
    "    gather_list.append(row)\n",
    "\n",
    "count_df = pd.DataFrame(gather_list)\n",
    "count_df.to_csv('lab/passcount.csv', index=False)\n",
    "# div numbers in \"test\" and \"renamed\" column by 164, leave strings same\n",
    "pass_df = count_df.apply(lambda x: x.apply(lambda y: y/164 if isinstance(y, int) else y))\n",
    "pass_df.to_csv('lab/passat1.csv', index=False)\n"
   ],
   "id": "c79c0fec212ffb7b",
   "outputs": [],
   "execution_count": 48
  },
  {
   "metadata": {
    "ExecuteTime": {
     "end_time": "2025-07-10T12:22:17.468116Z",
     "start_time": "2025-07-10T12:22:17.445625Z"
    }
   },
   "cell_type": "code",
   "source": [
    "data = pd.read_csv('lab/passcount.csv')\n",
    "\n",
    "data.describe()\n",
    "data"
   ],
   "id": "74bb1b1efe69a48c",
   "outputs": [
    {
     "data": {
      "text/plain": [
       "                           model_name  test  renamed\n",
       "0                      openai/gpt-4.1   157      155\n",
       "1                 openai/gpt-4.1-mini   154      153\n",
       "2                 openai/gpt-4.1-nano   119      132\n",
       "3                  openai/gpt-4o-mini   130      117\n",
       "4            openai/gpt-4o-2024-11-20   118      147\n",
       "5      deepseek/deepseek-chat-v3-0324   153      145\n",
       "6           deepseek/deepseek-r1-0528    88       92\n",
       "7             google/gemini-2.5-flash   121      137\n",
       "8   meta-llama/llama-3.3-70b-instruct   115      103\n",
       "9    meta-llama/llama-3.1-8b-instruct   100       65\n",
       "10   meta-llama/llama-3.2-3b-instruct    70       68\n",
       "11   meta-llama/llama-3.2-1b-instruct    29       28\n",
       "12        meta-llama/llama-4-maverick   106       74\n",
       "13           meta-llama/llama-4-scout   124      108\n",
       "14                 qwen/qwen3-30b-a3b   138      139\n",
       "15                     qwen/qwen3-32b   144      132\n",
       "16                      qwen/qwen3-8b   128      134\n",
       "17         baidu/ernie-4.5-turbo-128k   148      149\n",
       "18               baidu/ernie-4.5-0.3b    61       51"
      ],
      "text/html": [
       "<div>\n",
       "<style scoped>\n",
       "    .dataframe tbody tr th:only-of-type {\n",
       "        vertical-align: middle;\n",
       "    }\n",
       "\n",
       "    .dataframe tbody tr th {\n",
       "        vertical-align: top;\n",
       "    }\n",
       "\n",
       "    .dataframe thead th {\n",
       "        text-align: right;\n",
       "    }\n",
       "</style>\n",
       "<table border=\"1\" class=\"dataframe\">\n",
       "  <thead>\n",
       "    <tr style=\"text-align: right;\">\n",
       "      <th></th>\n",
       "      <th>model_name</th>\n",
       "      <th>test</th>\n",
       "      <th>renamed</th>\n",
       "    </tr>\n",
       "  </thead>\n",
       "  <tbody>\n",
       "    <tr>\n",
       "      <th>0</th>\n",
       "      <td>openai/gpt-4.1</td>\n",
       "      <td>157</td>\n",
       "      <td>155</td>\n",
       "    </tr>\n",
       "    <tr>\n",
       "      <th>1</th>\n",
       "      <td>openai/gpt-4.1-mini</td>\n",
       "      <td>154</td>\n",
       "      <td>153</td>\n",
       "    </tr>\n",
       "    <tr>\n",
       "      <th>2</th>\n",
       "      <td>openai/gpt-4.1-nano</td>\n",
       "      <td>119</td>\n",
       "      <td>132</td>\n",
       "    </tr>\n",
       "    <tr>\n",
       "      <th>3</th>\n",
       "      <td>openai/gpt-4o-mini</td>\n",
       "      <td>130</td>\n",
       "      <td>117</td>\n",
       "    </tr>\n",
       "    <tr>\n",
       "      <th>4</th>\n",
       "      <td>openai/gpt-4o-2024-11-20</td>\n",
       "      <td>118</td>\n",
       "      <td>147</td>\n",
       "    </tr>\n",
       "    <tr>\n",
       "      <th>5</th>\n",
       "      <td>deepseek/deepseek-chat-v3-0324</td>\n",
       "      <td>153</td>\n",
       "      <td>145</td>\n",
       "    </tr>\n",
       "    <tr>\n",
       "      <th>6</th>\n",
       "      <td>deepseek/deepseek-r1-0528</td>\n",
       "      <td>88</td>\n",
       "      <td>92</td>\n",
       "    </tr>\n",
       "    <tr>\n",
       "      <th>7</th>\n",
       "      <td>google/gemini-2.5-flash</td>\n",
       "      <td>121</td>\n",
       "      <td>137</td>\n",
       "    </tr>\n",
       "    <tr>\n",
       "      <th>8</th>\n",
       "      <td>meta-llama/llama-3.3-70b-instruct</td>\n",
       "      <td>115</td>\n",
       "      <td>103</td>\n",
       "    </tr>\n",
       "    <tr>\n",
       "      <th>9</th>\n",
       "      <td>meta-llama/llama-3.1-8b-instruct</td>\n",
       "      <td>100</td>\n",
       "      <td>65</td>\n",
       "    </tr>\n",
       "    <tr>\n",
       "      <th>10</th>\n",
       "      <td>meta-llama/llama-3.2-3b-instruct</td>\n",
       "      <td>70</td>\n",
       "      <td>68</td>\n",
       "    </tr>\n",
       "    <tr>\n",
       "      <th>11</th>\n",
       "      <td>meta-llama/llama-3.2-1b-instruct</td>\n",
       "      <td>29</td>\n",
       "      <td>28</td>\n",
       "    </tr>\n",
       "    <tr>\n",
       "      <th>12</th>\n",
       "      <td>meta-llama/llama-4-maverick</td>\n",
       "      <td>106</td>\n",
       "      <td>74</td>\n",
       "    </tr>\n",
       "    <tr>\n",
       "      <th>13</th>\n",
       "      <td>meta-llama/llama-4-scout</td>\n",
       "      <td>124</td>\n",
       "      <td>108</td>\n",
       "    </tr>\n",
       "    <tr>\n",
       "      <th>14</th>\n",
       "      <td>qwen/qwen3-30b-a3b</td>\n",
       "      <td>138</td>\n",
       "      <td>139</td>\n",
       "    </tr>\n",
       "    <tr>\n",
       "      <th>15</th>\n",
       "      <td>qwen/qwen3-32b</td>\n",
       "      <td>144</td>\n",
       "      <td>132</td>\n",
       "    </tr>\n",
       "    <tr>\n",
       "      <th>16</th>\n",
       "      <td>qwen/qwen3-8b</td>\n",
       "      <td>128</td>\n",
       "      <td>134</td>\n",
       "    </tr>\n",
       "    <tr>\n",
       "      <th>17</th>\n",
       "      <td>baidu/ernie-4.5-turbo-128k</td>\n",
       "      <td>148</td>\n",
       "      <td>149</td>\n",
       "    </tr>\n",
       "    <tr>\n",
       "      <th>18</th>\n",
       "      <td>baidu/ernie-4.5-0.3b</td>\n",
       "      <td>61</td>\n",
       "      <td>51</td>\n",
       "    </tr>\n",
       "  </tbody>\n",
       "</table>\n",
       "</div>"
      ]
     },
     "execution_count": 68,
     "metadata": {},
     "output_type": "execute_result"
    }
   ],
   "execution_count": 68
  },
  {
   "metadata": {
    "ExecuteTime": {
     "end_time": "2025-07-10T12:22:05.516574Z",
     "start_time": "2025-07-10T12:22:05.504287Z"
    }
   },
   "cell_type": "code",
   "source": [
    "W, p_shapiro = stats.shapiro(data['test'])\n",
    "print(f\"Shapiro–Wilk(test): W={W:.4f}, p={p_shapiro:.4f}\")\n",
    "W, p_shapiro = stats.shapiro(data['renamed'])\n",
    "print(f\"Shapiro–Wilk(renamed): W={W:.4f}, p={p_shapiro:.4f}\")"
   ],
   "id": "6b260e7e11e6d9a7",
   "outputs": [
    {
     "name": "stdout",
     "output_type": "stream",
     "text": [
      "Shapiro–Wilk(test): W=0.9020, p=0.0326\n",
      "Shapiro–Wilk(renamed): W=0.8934, p=0.0220\n"
     ]
    }
   ],
   "execution_count": 67
  },
  {
   "metadata": {
    "ExecuteTime": {
     "end_time": "2025-07-10T12:22:31.874131Z",
     "start_time": "2025-07-10T12:22:31.853294Z"
    }
   },
   "cell_type": "code",
   "source": [
    "wilcoxon_result = stats.wilcoxon(data['test'], data['renamed'], alternative=\"less\")\n",
    "print(f\"Wilcoxon test: statistic={wilcoxon_result.statistic:.4f}, p={wilcoxon_result.pvalue:.4f}\")"
   ],
   "id": "347037da1846b84a",
   "outputs": [
    {
     "name": "stdout",
     "output_type": "stream",
     "text": [
      "Wilcoxon test: statistic=124.0000, p=0.8787\n"
     ]
    }
   ],
   "execution_count": 69
  },
  {
   "metadata": {},
   "cell_type": "code",
   "outputs": [],
   "execution_count": null,
   "source": "",
   "id": "66a0eef432ee6bd5"
  }
 ],
 "metadata": {
  "kernelspec": {
   "display_name": "Python 3",
   "language": "python",
   "name": "python3"
  },
  "language_info": {
   "codemirror_mode": {
    "name": "ipython",
    "version": 2
   },
   "file_extension": ".py",
   "mimetype": "text/x-python",
   "name": "python",
   "nbconvert_exporter": "python",
   "pygments_lexer": "ipython2",
   "version": "2.7.6"
  }
 },
 "nbformat": 4,
 "nbformat_minor": 5
}
